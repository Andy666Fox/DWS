{
 "cells": [
  {
   "cell_type": "code",
   "execution_count": 2,
   "metadata": {},
   "outputs": [],
   "source": [
    "from scipy.io import wavfile\n",
    "import numpy as np\n",
    "import scipy\n",
    "import pandas as pd\n",
    "import os"
   ]
  },
  {
   "cell_type": "code",
   "execution_count": 12,
   "metadata": {},
   "outputs": [
    {
     "data": {
      "text/plain": [
       "['1A#.wav',\n",
       " '1A.wav',\n",
       " '1B.wav',\n",
       " '1C#.wav',\n",
       " '1C.wav',\n",
       " '1D#.wav',\n",
       " '1D.wav',\n",
       " '1E.wav',\n",
       " '1E12.wav',\n",
       " '1F#.wav',\n",
       " '1F.wav',\n",
       " '1G#.wav',\n",
       " '1G.wav',\n",
       " '2A#.wav',\n",
       " '2B.wav',\n",
       " '2B12.wav',\n",
       " '2C#.wav',\n",
       " '2C.wav',\n",
       " '2D#.wav',\n",
       " '2D.wav',\n",
       " '2E.wav',\n",
       " '2F#.wav',\n",
       " '2F.wav',\n",
       " '2G#.wav',\n",
       " '2G.wav',\n",
       " '3A#.wav',\n",
       " '3A.wav',\n",
       " '3B.wav',\n",
       " '3C#.wav',\n",
       " '3C.wav',\n",
       " '3D#.wav',\n",
       " '3D.wav',\n",
       " '3E.wav',\n",
       " '3F#.wav',\n",
       " '3F.wav',\n",
       " '3G#.wav',\n",
       " '3G.wav',\n",
       " '3G12.wav',\n",
       " '4A#.wav',\n",
       " '4A.wav',\n",
       " '4B.wav',\n",
       " '4C#.wav',\n",
       " '4C.wav',\n",
       " '4D#.wav',\n",
       " '4D.wav',\n",
       " '4D12.wav',\n",
       " '4E.wav',\n",
       " '4F#.wav',\n",
       " '4F.wav',\n",
       " '4G#.wav',\n",
       " '4G.wav',\n",
       " '5A#.wav',\n",
       " '5A.wav',\n",
       " '5A12.wav',\n",
       " '5B.wav',\n",
       " '5C#.wav',\n",
       " '5C.wav',\n",
       " '5D#.wav',\n",
       " '5D.wav',\n",
       " '5E.wav',\n",
       " '5F#.wav',\n",
       " '5F.wav',\n",
       " '5G#.wav',\n",
       " '5G.wav',\n",
       " '6A#.wav',\n",
       " '6A.wav',\n",
       " '6B.wav',\n",
       " '6C#.wav',\n",
       " '6C.wav',\n",
       " '6D#.wav',\n",
       " '6D.wav',\n",
       " '6E.wav',\n",
       " '6E12.wav',\n",
       " '6F#.wav',\n",
       " '6F.wav',\n",
       " '6G#.wav',\n",
       " '6G.wav']"
      ]
     },
     "execution_count": 12,
     "metadata": {},
     "output_type": "execute_result"
    }
   ],
   "source": [
    "ids = os.listdir('../input')\n",
    "ids"
   ]
  },
  {
   "cell_type": "code",
   "execution_count": 13,
   "metadata": {},
   "outputs": [],
   "source": [
    "lenghts = []\n",
    "for elem in ids:\n",
    "    (rate, sig) = wavfile.read(f'../input/{elem}')\n",
    "    leng = len(sig) / float(rate)\n",
    "    lenghts.append(leng)"
   ]
  },
  {
   "cell_type": "code",
   "execution_count": 14,
   "metadata": {},
   "outputs": [
    {
     "data": {
      "text/plain": [
       "77"
      ]
     },
     "execution_count": 14,
     "metadata": {},
     "output_type": "execute_result"
    }
   ],
   "source": [
    "len(ids)"
   ]
  },
  {
   "cell_type": "code",
   "execution_count": 15,
   "metadata": {},
   "outputs": [],
   "source": [
    "ClassID = []\n",
    "for elem in ids:\n",
    "    if 'A' in elem:\n",
    "        ClassID.append(1)\n",
    "    elif 'B' in elem:\n",
    "        ClassID.append(2)\n",
    "    elif 'C' in elem:\n",
    "        ClassID.append(3)\n",
    "    elif 'D' in elem:\n",
    "        ClassID.append(4)\n",
    "    elif 'E' in elem:\n",
    "        ClassID.append(5)\n",
    "    elif 'F' in elem:\n",
    "        ClassID.append(6)\n",
    "    elif 'G' in elem:\n",
    "        ClassID.append(7)"
   ]
  },
  {
   "cell_type": "code",
   "execution_count": 16,
   "metadata": {},
   "outputs": [],
   "source": [
    "data = pd.DataFrame({'NameID': ids, 'Lenght': lenghts, 'ClassID': ClassID})"
   ]
  },
  {
   "cell_type": "code",
   "execution_count": 17,
   "metadata": {},
   "outputs": [
    {
     "data": {
      "text/html": [
       "<div>\n",
       "<style scoped>\n",
       "    .dataframe tbody tr th:only-of-type {\n",
       "        vertical-align: middle;\n",
       "    }\n",
       "\n",
       "    .dataframe tbody tr th {\n",
       "        vertical-align: top;\n",
       "    }\n",
       "\n",
       "    .dataframe thead th {\n",
       "        text-align: right;\n",
       "    }\n",
       "</style>\n",
       "<table border=\"1\" class=\"dataframe\">\n",
       "  <thead>\n",
       "    <tr style=\"text-align: right;\">\n",
       "      <th></th>\n",
       "      <th>NameID</th>\n",
       "      <th>Lenght</th>\n",
       "      <th>ClassID</th>\n",
       "    </tr>\n",
       "  </thead>\n",
       "  <tbody>\n",
       "    <tr>\n",
       "      <th>0</th>\n",
       "      <td>1A#.wav</td>\n",
       "      <td>0.903991</td>\n",
       "      <td>1</td>\n",
       "    </tr>\n",
       "    <tr>\n",
       "      <th>1</th>\n",
       "      <td>1A.wav</td>\n",
       "      <td>0.890998</td>\n",
       "      <td>1</td>\n",
       "    </tr>\n",
       "    <tr>\n",
       "      <th>2</th>\n",
       "      <td>1B.wav</td>\n",
       "      <td>1.180998</td>\n",
       "      <td>2</td>\n",
       "    </tr>\n",
       "    <tr>\n",
       "      <th>3</th>\n",
       "      <td>1C#.wav</td>\n",
       "      <td>1.055011</td>\n",
       "      <td>3</td>\n",
       "    </tr>\n",
       "    <tr>\n",
       "      <th>4</th>\n",
       "      <td>1C.wav</td>\n",
       "      <td>1.053991</td>\n",
       "      <td>3</td>\n",
       "    </tr>\n",
       "    <tr>\n",
       "      <th>...</th>\n",
       "      <td>...</td>\n",
       "      <td>...</td>\n",
       "      <td>...</td>\n",
       "    </tr>\n",
       "    <tr>\n",
       "      <th>72</th>\n",
       "      <td>6E12.wav</td>\n",
       "      <td>1.495986</td>\n",
       "      <td>5</td>\n",
       "    </tr>\n",
       "    <tr>\n",
       "      <th>73</th>\n",
       "      <td>6F#.wav</td>\n",
       "      <td>1.160000</td>\n",
       "      <td>6</td>\n",
       "    </tr>\n",
       "    <tr>\n",
       "      <th>74</th>\n",
       "      <td>6F.wav</td>\n",
       "      <td>1.710000</td>\n",
       "      <td>6</td>\n",
       "    </tr>\n",
       "    <tr>\n",
       "      <th>75</th>\n",
       "      <td>6G#.wav</td>\n",
       "      <td>1.649002</td>\n",
       "      <td>7</td>\n",
       "    </tr>\n",
       "    <tr>\n",
       "      <th>76</th>\n",
       "      <td>6G.wav</td>\n",
       "      <td>1.740000</td>\n",
       "      <td>7</td>\n",
       "    </tr>\n",
       "  </tbody>\n",
       "</table>\n",
       "<p>77 rows × 3 columns</p>\n",
       "</div>"
      ],
      "text/plain": [
       "      NameID    Lenght  ClassID\n",
       "0    1A#.wav  0.903991        1\n",
       "1     1A.wav  0.890998        1\n",
       "2     1B.wav  1.180998        2\n",
       "3    1C#.wav  1.055011        3\n",
       "4     1C.wav  1.053991        3\n",
       "..       ...       ...      ...\n",
       "72  6E12.wav  1.495986        5\n",
       "73   6F#.wav  1.160000        6\n",
       "74    6F.wav  1.710000        6\n",
       "75   6G#.wav  1.649002        7\n",
       "76    6G.wav  1.740000        7\n",
       "\n",
       "[77 rows x 3 columns]"
      ]
     },
     "execution_count": 17,
     "metadata": {},
     "output_type": "execute_result"
    }
   ],
   "source": [
    "data"
   ]
  },
  {
   "cell_type": "code",
   "execution_count": 18,
   "metadata": {},
   "outputs": [],
   "source": [
    "data.to_csv('../input/data_notes.csv')"
   ]
  },
  {
   "cell_type": "code",
   "execution_count": null,
   "metadata": {},
   "outputs": [],
   "source": []
  }
 ],
 "metadata": {
  "interpreter": {
   "hash": "745580af149099085c602309336f96fdb3d04063157b41704fe01950326166b1"
  },
  "kernelspec": {
   "display_name": "Python 3.8.8 64-bit ('base': conda)",
   "language": "python",
   "name": "python3"
  },
  "language_info": {
   "codemirror_mode": {
    "name": "ipython",
    "version": 3
   },
   "file_extension": ".py",
   "mimetype": "text/x-python",
   "name": "python",
   "nbconvert_exporter": "python",
   "pygments_lexer": "ipython3",
   "version": "3.8.8"
  },
  "orig_nbformat": 4
 },
 "nbformat": 4,
 "nbformat_minor": 2
}
