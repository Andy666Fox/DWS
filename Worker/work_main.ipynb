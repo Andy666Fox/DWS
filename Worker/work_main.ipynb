{
 "cells": [
  {
   "cell_type": "code",
   "execution_count": 2,
   "metadata": {},
   "outputs": [],
   "source": [
    "from scipy.io import wavfile\n",
    "import numpy as np\n",
    "import scipy\n",
    "import pandas as pd\n",
    "import os"
   ]
  },
  {
   "cell_type": "code",
   "execution_count": 3,
   "metadata": {},
   "outputs": [
    {
     "data": {
      "text/plain": [
       "['1A#.wav',\n",
       " '1A.wav',\n",
       " '1B.wav',\n",
       " '1C#.wav',\n",
       " '1C.wav',\n",
       " '1D#.wav',\n",
       " '1D.wav',\n",
       " '1E.wav',\n",
       " '1E12.wav',\n",
       " '1F#.wav',\n",
       " '1F.wav',\n",
       " '1G#.wav',\n",
       " '1G.wav',\n",
       " '2A#.wav',\n",
       " '2A.wav',\n",
       " '2B.wav',\n",
       " '2B12.wav',\n",
       " '2C#.wav',\n",
       " '2C.wav',\n",
       " '2D#.wav',\n",
       " '2D.wav',\n",
       " '2E.wav',\n",
       " '2F#.wav',\n",
       " '2F.wav',\n",
       " '2f1A#.wav',\n",
       " '2f1A.wav',\n",
       " '2f1B.wav',\n",
       " '2f1C#.wav',\n",
       " '2f1C.wav',\n",
       " '2f1D#.wav',\n",
       " '2f1D.wav',\n",
       " '2f1E.wav',\n",
       " '2f1E12.wav',\n",
       " '2f1F#.wav',\n",
       " '2f1F.wav',\n",
       " '2f1G.wav',\n",
       " '2f2A.wav',\n",
       " '2f2B.wav',\n",
       " '2f2B12.wav',\n",
       " '2f2C#.wav',\n",
       " '2f2C.wav',\n",
       " '2f2D#.wav',\n",
       " '2f2D.wav',\n",
       " '2f2E.wav',\n",
       " '2f2F#.wav',\n",
       " '2f2F.wav',\n",
       " '2f2G#.wav',\n",
       " '2f2G.wav',\n",
       " '2f3A#.wav',\n",
       " '2f3A.wav',\n",
       " '2f3B.wav',\n",
       " '2f3C#.wav',\n",
       " '2f3C.wav',\n",
       " '2f3D#.wav',\n",
       " '2f3D.wav',\n",
       " '2f3E.wav',\n",
       " '2f3F#.wav',\n",
       " '2f3F.wav',\n",
       " '2f3G#.wav',\n",
       " '2f3G.wav',\n",
       " '2f3G12.wav',\n",
       " '2f4A#.wav',\n",
       " '2f4A.wav',\n",
       " '2f4B.wav',\n",
       " '2f4C#.wav',\n",
       " '2f4C.wav',\n",
       " '2f4D#.wav',\n",
       " '2f4D.wav',\n",
       " '2f4E.wav',\n",
       " '2f4F#.wav',\n",
       " '2f4F.wav',\n",
       " '2f4G#.wav',\n",
       " '2f4G.wav',\n",
       " '2f5A#.wav',\n",
       " '2f5A.wav',\n",
       " '2f5A12.wav',\n",
       " '2f5B.wav',\n",
       " '2f5C#.wav',\n",
       " '2f5C.wav',\n",
       " '2f5D#.wav',\n",
       " '2f5D.wav',\n",
       " '2f5E.wav',\n",
       " '2f5F#.wav',\n",
       " '2f5F.wav',\n",
       " '2f5G#.wav',\n",
       " '2f5G.wav',\n",
       " '2f6A#.wav',\n",
       " '2f6A.wav',\n",
       " '2f6B.wav',\n",
       " '2f6C#.wav',\n",
       " '2f6C.wav',\n",
       " '2f6D#.wav',\n",
       " '2f6D.wav',\n",
       " '2f6E.wav',\n",
       " '2f6E12.wav',\n",
       " '2f6F#.wav',\n",
       " '2f6F.wav',\n",
       " '2f6G#.wav',\n",
       " '2f6G.wav',\n",
       " '2G#.wav',\n",
       " '2G.wav',\n",
       " '3A#.wav',\n",
       " '3A.wav',\n",
       " '3B.wav',\n",
       " '3C#.wav',\n",
       " '3C.wav',\n",
       " '3D#.wav',\n",
       " '3D.wav',\n",
       " '3E.wav',\n",
       " '3F#.wav',\n",
       " '3F.wav',\n",
       " '3G#.wav',\n",
       " '3G.wav',\n",
       " '3G12.wav',\n",
       " '4A#.wav',\n",
       " '4A.wav',\n",
       " '4B.wav',\n",
       " '4C#.wav',\n",
       " '4C.wav',\n",
       " '4D#.wav',\n",
       " '4D.wav',\n",
       " '4D12.wav',\n",
       " '4E.wav',\n",
       " '4F#.wav',\n",
       " '4F.wav',\n",
       " '4G#.wav',\n",
       " '4G.wav',\n",
       " '5A#.wav',\n",
       " '5A.wav',\n",
       " '5A12.wav',\n",
       " '5B.wav',\n",
       " '5C#.wav',\n",
       " '5C.wav',\n",
       " '5D#.wav',\n",
       " '5D.wav',\n",
       " '5E.wav',\n",
       " '5F#.wav',\n",
       " '5F.wav',\n",
       " '5G#.wav',\n",
       " '5G.wav',\n",
       " '6A#.wav',\n",
       " '6A.wav',\n",
       " '6B.wav',\n",
       " '6C#.wav',\n",
       " '6C.wav',\n",
       " '6D#.wav',\n",
       " '6D.wav',\n",
       " '6E.wav',\n",
       " '6E12.wav',\n",
       " '6F#.wav',\n",
       " '6F.wav',\n",
       " '6G#.wav',\n",
       " '6G.wav']"
      ]
     },
     "execution_count": 3,
     "metadata": {},
     "output_type": "execute_result"
    }
   ],
   "source": [
    "ids = os.listdir('../input')\n",
    "ids"
   ]
  },
  {
   "cell_type": "code",
   "execution_count": 4,
   "metadata": {},
   "outputs": [],
   "source": [
    "lenghts = []\n",
    "for elem in ids:\n",
    "    (rate, sig) = wavfile.read(f'../input/{elem}')\n",
    "    leng = len(sig) / float(rate)\n",
    "    lenghts.append(leng)"
   ]
  },
  {
   "cell_type": "code",
   "execution_count": 7,
   "metadata": {},
   "outputs": [
    {
     "data": {
      "text/plain": [
       "153"
      ]
     },
     "execution_count": 7,
     "metadata": {},
     "output_type": "execute_result"
    }
   ],
   "source": [
    "len(ids)"
   ]
  },
  {
   "cell_type": "code",
   "execution_count": 11,
   "metadata": {},
   "outputs": [],
   "source": [
    "ClassID = []\n",
    "for elem in ids:\n",
    "    if 'A' in elem:\n",
    "        ClassID.append(1)\n",
    "    elif 'B' in elem:\n",
    "        ClassID.append(2)\n",
    "    elif 'C' in elem:\n",
    "        ClassID.append(3)\n",
    "    elif 'D' in elem:\n",
    "        ClassID.append(4)\n",
    "    elif 'E' in elem:\n",
    "        ClassID.append(5)\n",
    "    elif 'F' in elem:\n",
    "        ClassID.append(6)\n",
    "    elif 'G' in elem:\n",
    "        ClassID.append(7)"
   ]
  },
  {
   "cell_type": "code",
   "execution_count": 16,
   "metadata": {},
   "outputs": [],
   "source": [
    "data = pd.DataFrame({'NameID': ids, 'Lenght': lenghts, 'ClassID': ClassID})"
   ]
  },
  {
   "cell_type": "code",
   "execution_count": 19,
   "metadata": {},
   "outputs": [],
   "source": [
    "data.to_csv('../input/notes.csv', index=False)"
   ]
  },
  {
   "cell_type": "code",
   "execution_count": null,
   "metadata": {},
   "outputs": [],
   "source": []
  }
 ],
 "metadata": {
  "interpreter": {
   "hash": "745580af149099085c602309336f96fdb3d04063157b41704fe01950326166b1"
  },
  "kernelspec": {
   "display_name": "Python 3.8.8 64-bit ('base': conda)",
   "language": "python",
   "name": "python3"
  },
  "language_info": {
   "codemirror_mode": {
    "name": "ipython",
    "version": 3
   },
   "file_extension": ".py",
   "mimetype": "text/x-python",
   "name": "python",
   "nbconvert_exporter": "python",
   "pygments_lexer": "ipython3",
   "version": "3.8.8"
  },
  "orig_nbformat": 4
 },
 "nbformat": 4,
 "nbformat_minor": 2
}
